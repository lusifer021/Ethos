{
 "cells": [
  {
   "cell_type": "code",
   "execution_count": 2,
   "metadata": {},
   "outputs": [],
   "source": [
    "import requests as r"
   ]
  },
  {
   "cell_type": "code",
   "execution_count": 28,
   "metadata": {},
   "outputs": [
    {
     "name": "stdout",
     "output_type": "stream",
     "text": [
      "Collecting goto-statement\n",
      "  Downloading goto_statement-1.2-py2.py3-none-any.whl (5.6 kB)\n",
      "Installing collected packages: goto-statement\n",
      "Successfully installed goto-statement-1.2\n",
      "Note: you may need to restart the kernel to use updated packages.\n"
     ]
    }
   ],
   "source": [
    "pip install goto-statement"
   ]
  },
  {
   "cell_type": "code",
   "execution_count": 5,
   "metadata": {},
   "outputs": [],
   "source": [
    "response = r.post(\"https://web-production-07d4.up.railway.app/getusers\",{\"name\" : \"Narendra Modi\"})"
   ]
  },
  {
   "cell_type": "code",
   "execution_count": 27,
   "metadata": {},
   "outputs": [
    {
     "data": {
      "text/plain": [
       "True"
      ]
     },
     "execution_count": 27,
     "metadata": {},
     "output_type": "execute_result"
    }
   ],
   "source": [
    "response.ok"
   ]
  },
  {
   "cell_type": "code",
   "execution_count": 18,
   "metadata": {},
   "outputs": [],
   "source": [
    "j = response.json()"
   ]
  },
  {
   "cell_type": "code",
   "execution_count": 19,
   "metadata": {},
   "outputs": [
    {
     "data": {
      "text/plain": [
       "[{'test': ' Indian Prime Minister Narendra Modi has urged people to start wearing masks again as the country steps up surveillance of Covid cases. Mr Modi held a review meeting on Thursday amid a surge in cases in China which has put India on alert. The prime minister called for increased testing and encouraged a return to Covid-appropriate behaviour.  India had relaxed its Covid rules, including mask-wearing, earlier this year after a drop in infection levels. The country witnessed two deadly waves in 2020 and 2022 - and the government had come under heavy criticism for its handling of the second wave in the summer of 2021 when thousands died amid a lack of oxygen supplies and critical medicines. At Thursday\\'s meeting, Mr Modi asked states to ensure operational readiness of hospital infrastructure, including a healthy supply of oxygen cylinders and ventilators. While there was no reason to panic, the prime minister cautioned against complacency and urged citizens to take all necessary precautions.  According to government data, India currently has only around 3,400 active coronavirus cases, but reports of the surge in China have created a sense of fear among many people.  Over the past few months, India has reported four Covid-19 cases caused by BF.7, the Omicron subvariant linked to a spike in cases in China.  The cases - three in Gujarat state and one in Odisha - were detected in July, September and November and the patients have recovered, health officials have said. Several experts have said that India does not have reason to panic. In Delhi, Chief Minister Arvind Kejriwal has assured the people that no case of the Covid variant has been detected in national capital. In the southern state of Karnataka, the government has made Covid tests mandatory for flu-like symptoms and said masks may soon be mandatory in closed spaces. Top health officials have asked people to get vaccinated and take booster doses. Over 2.2 billion Covid vaccine doses have been administered so far in the country, but only 27% of the population have taken the booster dose - which India calls a \"precaution dose\" - so far.  The government said it had no plans yet to stop flights from countries where new cases were reported. But the country has resumed random testing of international travellers at the airports. On Thursday, India\\'s health minister Mansukh Mandaviya said in parliament that though cases in China were rising, those in India were \"depleting\". He added that the ministry was closely monitoring new variants and advised states to increase genome sequencing. On Twitter, the government also debunked a fake message circulating on WhatsApp regarding a subvariant of the Omicron strain. #FakeNewsThis message is circulating in some Whatsapp groups regarding XBB variant of #COVID19.The message is #FAKE and #MISLEADING. pic.twitter.com/LAgnaZjCCi Earlier this week, the federal government asked states to send samples of all Covid positive patients to labs runs by a health ministry forum which monitors various strains of Covid in India. Mr Mandaviya also asked states to encourage people to follow social distancing and other rules during the upcoming festive season. Chief ministers of several states have been reviewing their preparedness to deal with infections if needed.  Why India\\'s real Covid toll may never be known How India failed to prevent a deadly second wave NFL player in critical condition after cardiac arrest Republicans in disarray over Speaker vote rebellion Palestinians rage at Israel minister holy site visit Cuba boxing rule change lets women into the ring Uncertain fate awaits Thailand\\'s elephant tourism Russia\\'s war drains Ukraine\\'s rich list of power What we can expect from Kim Jong-un in 2023 Protest, love, art: The unusual uses of blood in India The nun and the monk who fell in love and married The Moon hoax that fooled the world. VideoThe Moon hoax that fooled the world Could this be the world’s tallest man? Why pleasure is key to losing weight The most unlikely TV hit ever? Which protein is most climate-friendly? The railway that forever changed the US © 2023 BBC. The BBC is not responsible for the content of external sites. Read about our approach to external linking.',\n",
       "  'date': '2022-12-23T04:14:53Z',\n",
       "  'sentiment': 0.0},\n",
       " {'test': ' NEW DELHI, Jan 2 (Reuters) - India\\'s Supreme Court on Monday upheld the legality of the government decision in 2016 to demonetise 86% of the country\\'s cash in circulation, saying the decision was taken in consultation with the central bank and followed due process. A five-judge bench of the country\\'s top court passed the verdict by a majority on a batch of petitions questioning the move. One out of the five judges wrote a dissenting opinion. \"The...notification dated 8th November 2016 does not suffer from any flaws in the decision-making process,\" Justice B R Gavai, one of the four judges who agreed on the decision, said in a written opinion. The petitioners included lawyers, a political party, co-operative banks and individuals. India\\'s former finance minister, P Chidambaram was among the lawyers who argued against the note ban measure. In November, 2016, Prime Minister Narendra Modi personally led the shock move to outlaw 86% of the cash in circulation to target undeclared \"black money\" and fight corruption. But the move, widely known as demonetisation, badly hurt Indiaâ€™s cash-dependent economy. Hundreds of thousands of people lined up outside banks for days to exchange their cash savings for legal tender. Despite the chaos caused, many people supported demonetisation after Modi framed the decision as a fight for the poor against the corrupt rich. Some of the petitioners had argued that the recommendation to ban or declare any series of banknotes invalid should have come from the Reserve Bank of India and not from the government. India\\'s main opposition Congress party said Monday\\'s decision by the top court said nothing about the impact of demonetisation, which the party called a \"a singularly disastrous move.\" \"The majority Supreme Court verdict deals with the limited issue of the process of decision-making, not with its outcomes,\" Jairam Ramesh, the party\\'s spokesperson said in a statement. Our Standards: The Thomson Reuters Trust Principles. India\\'s top automakers in December reported a double-digit rise in the sale of the more expensive utility vehicles, while entry-level cars saw muted demand despite discounts. Reuters, the news and media division of Thomson Reuters, is the worldâ€™s largest multimedia news provider, reaching billions of people worldwide every day. Reuters provides business, financial, national and international news to professionals via desktop terminals, the world\\'s media organizations, industry events and directly to consumers. Build the strongest argument relying on authoritative content, attorney-editor expertise, and industry defining technology. The most comprehensive solution to manage all your complex and ever-expanding tax and compliance needs. The industry leader for online information for tax, accounting and finance professionals.  Access unmatched financial data, news and content in a highly-customised workflow experience on desktop, web and mobile.  Browse an unrivalled portfolio of real-time and historical market data and insights from worldwide sources and experts. Screen for heightened risk individual and entities globally to help uncover hidden risks in business relationships and human networks. All quotes delayed a minimum of 15 minutes. See here for a complete list of exchanges and delays. Â© 2022 Reuters. All rights reserved',\n",
       "  'date': '2023-01-02T05:43:00Z',\n",
       "  'sentiment': -0.08333333333333333}]"
      ]
     },
     "execution_count": 19,
     "metadata": {},
     "output_type": "execute_result"
    }
   ],
   "source": [
    "j[\"articles\"]"
   ]
  },
  {
   "cell_type": "code",
   "execution_count": 13,
   "metadata": {},
   "outputs": [],
   "source": [
    "list = j[\"articles\"]"
   ]
  },
  {
   "cell_type": "code",
   "execution_count": 30,
   "metadata": {},
   "outputs": [
    {
     "ename": "IndexError",
     "evalue": "list index out of range",
     "output_type": "error",
     "traceback": [
      "\u001b[0;31m---------------------------------------------------------------------------\u001b[0m",
      "\u001b[0;31mIndexError\u001b[0m                                Traceback (most recent call last)",
      "Cell \u001b[0;32mIn[30], line 1\u001b[0m\n\u001b[0;32m----> 1\u001b[0m \u001b[38;5;28;43mlist\u001b[39;49m\u001b[43m[\u001b[49m\u001b[38;5;241;43m2\u001b[39;49m\u001b[43m]\u001b[49m\n",
      "\u001b[0;31mIndexError\u001b[0m: list index out of range"
     ]
    }
   ],
   "source": [
    "list[2]"
   ]
  },
  {
   "cell_type": "code",
   "execution_count": null,
   "metadata": {},
   "outputs": [],
   "source": []
  }
 ],
 "metadata": {
  "kernelspec": {
   "display_name": "Python 3.10.8 ('streamlit')",
   "language": "python",
   "name": "python3"
  },
  "language_info": {
   "codemirror_mode": {
    "name": "ipython",
    "version": 3
   },
   "file_extension": ".py",
   "mimetype": "text/x-python",
   "name": "python",
   "nbconvert_exporter": "python",
   "pygments_lexer": "ipython3",
   "version": "3.10.8"
  },
  "orig_nbformat": 4,
  "vscode": {
   "interpreter": {
    "hash": "ae22e9992d6ecb6eb8211a605befe3ac3ff1d2da8d07420ee844d432999b2a2f"
   }
  }
 },
 "nbformat": 4,
 "nbformat_minor": 2
}
